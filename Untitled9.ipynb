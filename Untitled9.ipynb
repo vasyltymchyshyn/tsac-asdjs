{
 "metadata": {
  "name": "",
  "signature": "sha256:99842956d266b1e721f54bfc72f32269b6544f0fb7ae57320ef96cafdc85329e"
 },
 "nbformat": 3,
 "nbformat_minor": 0,
 "worksheets": [
  {
   "cells": [
    {
     "cell_type": "code",
     "collapsed": false,
     "input": [
      "function es7(x,y)\n",
      "{\n",
      "\n",
      "for(i=0;i<y;i++){\n",
      "\n",
      "\n",
      "\n",
      "x+=\n",
      "\n",
      "}\n",
      "\n",
      "\n",
      "}"
     ],
     "language": "python",
     "metadata": {},
     "outputs": [
      {
       "metadata": {},
       "output_type": "pyout",
       "prompt_number": 3,
       "text": [
        "undefined"
       ]
      }
     ],
     "prompt_number": 3
    },
    {
     "cell_type": "code",
     "collapsed": false,
     "input": [],
     "language": "python",
     "metadata": {},
     "outputs": []
    }
   ],
   "metadata": {}
  }
 ]
}