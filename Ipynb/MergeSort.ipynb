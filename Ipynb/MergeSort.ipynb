{
 "metadata": {
  "name": "",
  "signature": "sha256:64dd5374cab68114a9ee370c50ee41ce8321342217e58efe28e0ef1b67b82d3b"
 },
 "nbformat": 3,
 "nbformat_minor": 0,
 "worksheets": [
  {
   "cells": [
    {
     "cell_type": "code",
     "collapsed": false,
     "input": [
      "function merge(ar1, ar2) {\n",
      "    var result = [];\n",
      "    var i1 = 0;\n",
      "    var i2 = 0;\n",
      "\n",
      "    while(i1 < ar1.length && i2 < ar2.length) {\n",
      "        if(ar1[i1] < ar2[i2]) {\n",
      "            result.push(ar1[i1]);\n",
      "            i1++;\n",
      "        } else {\n",
      "            result.push(ar2[i2]);\n",
      "            i2++;\n",
      "        }\n",
      "    }\n",
      "    if (i1 < ar1.length) {\n",
      "        result = result.concat(ar1.slice(i1))\n",
      "    }\n",
      "    if (i2 < ar2.length) {\n",
      "        result = result.concat(ar2.slice(i2))\n",
      "    }\n",
      "\n",
      "    return result;\n",
      "}"
     ],
     "language": "python",
     "metadata": {},
     "outputs": [
      {
       "metadata": {},
       "output_type": "pyout",
       "prompt_number": 1,
       "text": [
        "undefined"
       ]
      }
     ],
     "prompt_number": 1
    },
    {
     "cell_type": "code",
     "collapsed": false,
     "input": [],
     "language": "python",
     "metadata": {},
     "outputs": []
    },
    {
     "cell_type": "code",
     "collapsed": false,
     "input": [
      "merge([2,5], [3,6,9])"
     ],
     "language": "python",
     "metadata": {},
     "outputs": [
      {
       "metadata": {},
       "output_type": "pyout",
       "prompt_number": 2,
       "text": [
        "[ 2, 3, 5, 6, 9 ]"
       ]
      }
     ],
     "prompt_number": 2
    },
    {
     "cell_type": "code",
     "collapsed": false,
     "input": [
      "function mergeSort(myarray) {\n",
      "    if (myarray.length == 1) {\n",
      "        return myarray;\n",
      "    } else {\n",
      "        var l = myarray.length / 2;\n",
      "        var left = myarray.slice(0, Math.ceil(l));\n",
      "        var right = myarray.slice(Math.ceil(l));\n",
      "        return merge(mergeSort(left), mergeSort(right));\n",
      "    }\n",
      "}"
     ],
     "language": "python",
     "metadata": {},
     "outputs": [
      {
       "metadata": {},
       "output_type": "pyout",
       "prompt_number": 3,
       "text": [
        "undefined"
       ]
      }
     ],
     "prompt_number": 3
    },
    {
     "cell_type": "code",
     "collapsed": false,
     "input": [
      "mergeSort([2,7,4])"
     ],
     "language": "python",
     "metadata": {},
     "outputs": [
      {
       "metadata": {},
       "output_type": "pyout",
       "prompt_number": 4,
       "text": [
        "[ 2, 4, 7 ]"
       ]
      }
     ],
     "prompt_number": 4
    },
    {
     "cell_type": "code",
     "collapsed": false,
     "input": [],
     "language": "python",
     "metadata": {},
     "outputs": []
    }
   ],
   "metadata": {}
  }
 ]
}